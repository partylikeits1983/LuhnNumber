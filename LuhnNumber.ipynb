{
 "cells": [
  {
   "cell_type": "code",
   "execution_count": 18,
   "id": "03edf9ed",
   "metadata": {},
   "outputs": [
    {
     "name": "stdout",
     "output_type": "stream",
     "text": [
      "This is a valid card\n"
     ]
    }
   ],
   "source": [
    "# Python3 program to implement\n",
    "# Luhn algorithm\n",
    "# Returns true if given card\n",
    "# number is valid\n",
    "def checkLuhn(cardNo):\n",
    "\n",
    "    nDigits = len(cardNo)\n",
    "    nSum = 0\n",
    "    isSecond = False\n",
    "\n",
    "    for i in range(nDigits - 1, -1, -1):\n",
    "        d = ord(cardNo[i]) - ord('0')\n",
    "        \n",
    "        if (isSecond == True):\n",
    "            d = d * 2\n",
    "\n",
    "        # We add two digits to handle\n",
    "        # cases that make two digits after\n",
    "        # doubling\n",
    "        nSum += d // 10\n",
    "        nSum += d % 10\n",
    "\n",
    "        isSecond = not isSecond\n",
    "\n",
    "    if (nSum % 10 == 0):\n",
    "        return True\n",
    "    else:\n",
    "        return False\n",
    "\n",
    "# Driver code\n",
    "if __name__==\"__main__\":\n",
    "\n",
    "    cardNo = \"4462236127197377\"\n",
    "    \n",
    "    if (checkLuhn(cardNo)):\n",
    "        print(\"This is a valid card\")\n",
    "    else:\n",
    "        print(\"This is not a valid card\")\n",
    "\n",
    "# This code is contributed by rutvik_56\n"
   ]
  },
  {
   "cell_type": "code",
   "execution_count": 17,
   "id": "a9e15250",
   "metadata": {},
   "outputs": [
    {
     "name": "stdout",
     "output_type": "stream",
     "text": [
      "Card type: visa16, \n",
      "4462236127197377\n"
     ]
    }
   ],
   "source": [
    "from random import randint\n",
    "\n",
    "def generate_card(type):\n",
    "    \"\"\"\n",
    "    Prefill some values based on the card type\n",
    "    \"\"\"\n",
    "    card_types = [\"americanexpress\",\"visa13\", \"visa16\",\"mastercard\",\"discover\"]\n",
    "\n",
    "    def prefill(t):\n",
    "        # typical number of digits in credit card\n",
    "        def_length = 16\n",
    "\n",
    "        \"\"\"\n",
    "        Prefill with initial numbers and return it including the total number of digits\n",
    "        remaining to fill\n",
    "        \"\"\"\n",
    "        if t == card_types[0]:\n",
    "            # american express starts with 3 and is 15 digits long\n",
    "            # override the def lengths\n",
    "            return [3, randint(4,7)], 13\n",
    "\n",
    "        elif t == card_types[1] or t == card_types[2]:\n",
    "            # visa starts with 4\n",
    "            if t.endswith(\"16\"):\n",
    "                return [4], def_length - 1\n",
    "            else:\n",
    "                return [4], 12\n",
    "\n",
    "        elif t == card_types[3]:\n",
    "            # master card start with 5 and is 16 digits long\n",
    "            return [5, randint(1,5)], def_length - 2\n",
    "\n",
    "        elif t == card_types[4]:\n",
    "            # discover card starts with 6011 and is 16 digits long\n",
    "            return [6, 0, 1, 1], def_length - 4\n",
    "\n",
    "        else:\n",
    "            # this section probably not even needed here\n",
    "            return [], def_length\n",
    "\n",
    "    def finalize(nums):\n",
    "        \"\"\"\n",
    "        Make the current generated list pass the Luhn check by checking and adding\n",
    "        the last digit appropriately bia calculating the check sum\n",
    "        \"\"\"\n",
    "        check_sum = 0\n",
    "\n",
    "        #is_even = True if (len(nums) + 1 % 2) == 0 else False\n",
    "\n",
    "        \"\"\"\n",
    "        Reason for this check offset is to figure out whether the final list is going\n",
    "        to be even or odd which will affect calculating the check_sum.\n",
    "        This is mainly also to avoid reversing the list back and forth which is specified\n",
    "        on the Luhn algorithm.\n",
    "        \"\"\"\n",
    "        check_offset = (len(nums) + 1) % 2\n",
    "\n",
    "        for i, n in enumerate(nums):\n",
    "            if (i + check_offset) % 2 == 0:\n",
    "                n_ = n*2\n",
    "                check_sum += n_ -9 if n_ > 9 else n_\n",
    "            else:\n",
    "                check_sum += n\n",
    "        return nums + [10 - (check_sum % 10) ]\n",
    "\n",
    "    # main body\n",
    "    t = type.lower()\n",
    "    if t not in card_types:\n",
    "        print(\"Unknown type: '%s'\" % type)\n",
    "        print(\"Please pick one of these supported types: %s\" % card_types)\n",
    "        return\n",
    "\n",
    "    initial, rem = prefill(t)\n",
    "    so_far = initial + [randint(1,9) for x in range(rem - 1)]\n",
    "    print (\"Card type: %s, \" % t,)\n",
    "    print (\"\".join(map(str,finalize(so_far))))\n",
    "\n",
    "\n",
    "# run - check\n",
    "generate_card(\"visa16\")"
   ]
  },
  {
   "cell_type": "code",
   "execution_count": 19,
   "id": "196ad7b1",
   "metadata": {},
   "outputs": [
    {
     "name": "stdout",
     "output_type": "stream",
     "text": [
      "8247968600"
     ]
    }
   ],
   "source": [
    "# create randomly generated phone number\n",
    "import random as r\n",
    "\n",
    "ph_no = []\n",
    "\n",
    "# the first number should be in the range of 6 to 9\n",
    "ph_no.append(r.randint(6, 9))\n",
    "\n",
    "# the for loop is used to append the other 9 numbers.\n",
    "# the other 9 numbers can be in the range of 0 to 9.\n",
    "for i in range(1, 10):\n",
    "    ph_no.append(r.randint(0, 9))\n",
    "\n",
    "# printing the number\n",
    "for i in ph_no:\n",
    "    print(i, end=\"\")\n"
   ]
  },
  {
   "cell_type": "code",
   "execution_count": null,
   "id": "78ac6b1b",
   "metadata": {},
   "outputs": [],
   "source": []
  }
 ],
 "metadata": {
  "kernelspec": {
   "display_name": "Python 3",
   "language": "python",
   "name": "python3"
  },
  "language_info": {
   "codemirror_mode": {
    "name": "ipython",
    "version": 3
   },
   "file_extension": ".py",
   "mimetype": "text/x-python",
   "name": "python",
   "nbconvert_exporter": "python",
   "pygments_lexer": "ipython3",
   "version": "3.8.10"
  }
 },
 "nbformat": 4,
 "nbformat_minor": 5
}
